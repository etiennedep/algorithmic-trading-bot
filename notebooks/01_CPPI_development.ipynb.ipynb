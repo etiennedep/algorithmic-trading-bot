{
 "cells": [
  {
   "cell_type": "markdown",
   "id": "ff28f69f-bf29-45e1-93e6-fad6fd1a5f51",
   "metadata": {},
   "source": [
    "# CPPI Strategy Development\n",
    "This notebook develops and tests the CPPI core logic for the trading bot.\n"
   ]
  },
  {
   "cell_type": "code",
   "execution_count": 1,
   "id": "d4987fbe-bf53-4550-8b3d-cc2974a2be4a",
   "metadata": {},
   "outputs": [],
   "source": [
    "import sys, os\n",
    "sys.path.append(os.path.abspath(\"..\"))  # This allows you to import from the parent directory\n",
    "from strategies.cppi import CPPI\n",
    "from strategies.asset_selector import SimpleAssetSelector\n",
    "import yfinance as yf\n",
    "import pandas as pd\n",
    "import numpy as np\n",
    "import matplotlib.pyplot as plt\n",
    "\n"
   ]
  },
  {
   "cell_type": "code",
   "execution_count": 14,
   "id": "8c17ff94-0f26-4e97-97cf-736b0898659f",
   "metadata": {},
   "outputs": [],
   "source": [
    "# CPPI parameters\n",
    "initial_capital = 100000\n",
    "floor_pct = 0.8\n",
    "multiplier = 3\n",
    "cost_per_dollar = 0.0005   # 5 basis points per dollar traded\n",
    "\n",
    "# Date range\n",
    "start_date = '2005-01-01'\n",
    "end_date   = '2023-01-01'\n",
    "\n",
    "# Initialize CPPI engine and asset selector\n",
    "cppi = CPPI(floor_pct, multiplier, initial_capital)\n",
    "selector = SimpleAssetSelector()\n"
   ]
  },
  {
   "cell_type": "code",
   "execution_count": 15,
   "id": "33bc4e2a-8b37-4a81-ad56-b443d21e6142",
   "metadata": {},
   "outputs": [
    {
     "name": "stderr",
     "output_type": "stream",
     "text": [
      "[*********************100%***********************]  2 of 2 completed\n"
     ]
    },
    {
     "data": {
      "text/html": [
       "<div>\n",
       "<style scoped>\n",
       "    .dataframe tbody tr th:only-of-type {\n",
       "        vertical-align: middle;\n",
       "    }\n",
       "\n",
       "    .dataframe tbody tr th {\n",
       "        vertical-align: top;\n",
       "    }\n",
       "\n",
       "    .dataframe thead th {\n",
       "        text-align: right;\n",
       "    }\n",
       "</style>\n",
       "<table border=\"1\" class=\"dataframe\">\n",
       "  <thead>\n",
       "    <tr style=\"text-align: right;\">\n",
       "      <th></th>\n",
       "      <th>risky</th>\n",
       "      <th>safe</th>\n",
       "    </tr>\n",
       "    <tr>\n",
       "      <th>Date</th>\n",
       "      <th></th>\n",
       "      <th></th>\n",
       "    </tr>\n",
       "  </thead>\n",
       "  <tbody>\n",
       "    <tr>\n",
       "      <th>2005-01-03</th>\n",
       "      <td>0.000000</td>\n",
       "      <td>0.000000</td>\n",
       "    </tr>\n",
       "    <tr>\n",
       "      <th>2005-01-04</th>\n",
       "      <td>-0.012219</td>\n",
       "      <td>-0.010481</td>\n",
       "    </tr>\n",
       "    <tr>\n",
       "      <th>2005-01-05</th>\n",
       "      <td>-0.006901</td>\n",
       "      <td>0.005354</td>\n",
       "    </tr>\n",
       "    <tr>\n",
       "      <th>2005-01-06</th>\n",
       "      <td>0.005084</td>\n",
       "      <td>0.000679</td>\n",
       "    </tr>\n",
       "    <tr>\n",
       "      <th>2005-01-07</th>\n",
       "      <td>-0.001433</td>\n",
       "      <td>0.002264</td>\n",
       "    </tr>\n",
       "  </tbody>\n",
       "</table>\n",
       "</div>"
      ],
      "text/plain": [
       "               risky      safe\n",
       "Date                          \n",
       "2005-01-03  0.000000  0.000000\n",
       "2005-01-04 -0.012219 -0.010481\n",
       "2005-01-05 -0.006901  0.005354\n",
       "2005-01-06  0.005084  0.000679\n",
       "2005-01-07 -0.001433  0.002264"
      ]
     },
     "metadata": {},
     "output_type": "display_data"
    }
   ],
   "source": [
    "# Cell 4: Data Acquisition using yfinance.download\n",
    "\n",
    "import pandas as pd\n",
    "import yfinance as yf\n",
    "\n",
    "# Parameters\n",
    "start_date = '2005-01-01'\n",
    "end_date   = '2023-01-02'         # add one extra day to include Jan 1 data\n",
    "tickers    = ['SPY', 'TLT']       # your risky and safe assets\n",
    "\n",
    "# Download OHLC data for both tickers\n",
    "data = yf.download(\n",
    "    tickers,\n",
    "    start=start_date,\n",
    "    end=end_date,\n",
    "    interval='1d',\n",
    "    group_by='ticker',\n",
    "    auto_adjust=True,\n",
    "    threads=True\n",
    ")\n",
    "\n",
    "# Extract Close-price Series\n",
    "risky_prices = data['SPY']['Close']\n",
    "safe_prices  = data['TLT']['Close']\n",
    "\n",
    "# Align and compute returns\n",
    "prices = pd.concat([risky_prices, safe_prices], axis=1, join='inner')\n",
    "prices.columns = ['risky', 'safe']\n",
    "returns = prices.pct_change().fillna(0)\n",
    "\n",
    "# Sanity check\n",
    "display(returns.head())\n"
   ]
  },
  {
   "cell_type": "code",
   "execution_count": 16,
   "id": "26187b41-3067-4b28-b6d7-9a416909412a",
   "metadata": {},
   "outputs": [],
   "source": [
    "# Simulation loop\n",
    "portfolio_vals = []\n",
    "previous_risky_alloc = 0\n",
    "\n",
    "for date, row in returns.iterrows():\n",
    "    # Rebalance with cost\n",
    "    new_risky_alloc, cost = cppi.rebalance_with_cost(\n",
    "        risky_return=row['risky'],\n",
    "        safe_return =row['safe'],\n",
    "        previous_risky_alloc=previous_risky_alloc,\n",
    "        cost_per_dollar=cost_per_dollar\n",
    "    )\n",
    "    previous_risky_alloc = new_risky_alloc\n",
    "    portfolio_vals.append({\n",
    "        'date': date,\n",
    "        'value': cppi.portfolio_value,\n",
    "        'cost': cost\n",
    "    })\n",
    "\n",
    "# Build DataFrame\n",
    "cppi_df = pd.DataFrame(portfolio_vals).set_index('date')\n"
   ]
  },
  {
   "cell_type": "code",
   "execution_count": 17,
   "id": "acbd1e82-1998-48d0-bcb4-c5dd78395dfa",
   "metadata": {},
   "outputs": [
    {
     "data": {
      "application/vnd.jupyter.widget-view+json": {
       "model_id": "b07ab56f629a494488d6284d38ff765f",
       "version_major": 2,
       "version_minor": 0
      },
      "text/plain": [
       "interactive(children=(FloatSlider(value=0.8, description='Floor %', max=0.9, min=0.1, step=0.05), FloatSlider(…"
      ]
     },
     "metadata": {},
     "output_type": "display_data"
    }
   ],
   "source": [
    "# Cell: Interactive CPPI vs. Buy & Hold with Sliders (no external CSV)\n",
    "\n",
    "import pandas as pd\n",
    "import numpy as np\n",
    "import matplotlib.pyplot as plt\n",
    "from ipywidgets import interact_manual, FloatSlider\n",
    "from strategies.cppi import CPPI\n",
    "\n",
    "# Use the existing `returns` DataFrame in this notebook\n",
    "# It should have columns ['risky', 'safe'] and a DatetimeIndex\n",
    "# Ensure you've run the data-acquisition cell so that `returns` is defined.\n",
    "\n",
    "def plot_cppi(floor_pct: float, multiplier: float):\n",
    "    initial_capital = 100_000\n",
    "    cppi = CPPI(floor_pct=floor_pct, multiplier=multiplier, initial_capital=initial_capital)\n",
    "    dates = returns.index\n",
    "\n",
    "    # Run CPPI simulation\n",
    "    port_vals = []\n",
    "    for rr, sr in zip(returns['risky'], returns['safe']):\n",
    "        cppi.rebalance(rr, sr)\n",
    "        port_vals.append(cppi.portfolio_value)\n",
    "    cppi_series = pd.Series(port_vals, index=dates)\n",
    "\n",
    "    # Buy & Hold benchmark\n",
    "    bh_series = (1 + returns['risky']).cumprod() * initial_capital\n",
    "\n",
    "    # Plot\n",
    "    plt.figure(figsize=(12, 6))\n",
    "    plt.plot(dates, cppi_series, label=f'CPPI (floor={floor_pct:.2f}, m={multiplier:.1f})', linewidth=2)\n",
    "    plt.plot(dates, bh_series, label='Buy & Hold', linestyle='--')\n",
    "    plt.title('CPPI vs. Buy & Hold Performance')\n",
    "    plt.xlabel('Date')\n",
    "    plt.ylabel('Portfolio Value ($)')\n",
    "    plt.legend()\n",
    "    plt.grid(alpha=0.3)\n",
    "    plt.show()\n",
    "\n",
    "# Use a manual “Run” button to avoid hanging during slider moves\n",
    "interact_manual(\n",
    "    plot_cppi,\n",
    "    floor_pct=FloatSlider(value=0.8, min=0.1, max=0.9, step=0.05, description='Floor %'),\n",
    "    multiplier=FloatSlider(value=3.0, min=0.5, max=5.0, step=0.5, description='Multiplier')\n",
    ");\n"
   ]
  },
  {
   "cell_type": "code",
   "execution_count": 6,
   "id": "871cc38d-1ab9-4ed1-b9be-787933139ba2",
   "metadata": {},
   "outputs": [
    {
     "name": "stdout",
     "output_type": "stream",
     "text": [
      "Widgets are now available!\n"
     ]
    }
   ],
   "source": [
    "from ipywidgets import interact, FloatSlider\n",
    "print(\"Widgets are now available!\")\n"
   ]
  },
  {
   "cell_type": "code",
   "execution_count": null,
   "id": "8a60fa79-2601-4e0c-a747-2dffcb06f798",
   "metadata": {},
   "outputs": [],
   "source": []
  },
  {
   "cell_type": "code",
   "execution_count": null,
   "id": "ad8c5180-3a56-4c0f-bbeb-d027a7cf8d03",
   "metadata": {},
   "outputs": [],
   "source": []
  },
  {
   "cell_type": "code",
   "execution_count": null,
   "id": "088f61fe-8454-4d85-b5f5-48f483946966",
   "metadata": {},
   "outputs": [],
   "source": []
  }
 ],
 "metadata": {
  "kernelspec": {
   "display_name": "Python (trading-bot)",
   "language": "python",
   "name": "trading-bot"
  },
  "language_info": {
   "codemirror_mode": {
    "name": "ipython",
    "version": 3
   },
   "file_extension": ".py",
   "mimetype": "text/x-python",
   "name": "python",
   "nbconvert_exporter": "python",
   "pygments_lexer": "ipython3",
   "version": "3.11.0"
  }
 },
 "nbformat": 4,
 "nbformat_minor": 5
}
